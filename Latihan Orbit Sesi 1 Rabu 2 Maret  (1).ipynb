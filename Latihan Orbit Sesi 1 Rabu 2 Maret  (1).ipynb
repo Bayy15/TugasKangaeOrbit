{
 "cells": [
  {
   "cell_type": "code",
   "execution_count": null,
   "metadata": {},
   "outputs": [],
   "source": [
    "#Latihan soal sesi 1 hari rabu, 2 Maret 2022"
   ]
  },
  {
   "cell_type": "code",
   "execution_count": 1,
   "metadata": {},
   "outputs": [
    {
     "name": "stdout",
     "output_type": "stream",
     "text": [
      "False\n",
      "True\n",
      "True\n",
      "True\n",
      "False\n"
     ]
    }
   ],
   "source": [
    "#Soal No 1\n",
    "a= False\n",
    "b= True\n",
    "c= False\n",
    "print(b and c)\n",
    "print (b or c)\n",
    "print (not a and b)\n",
    "print ((a and b)or not c)\n",
    "print (not b and not (a or c))"
   ]
  },
  {
   "cell_type": "code",
   "execution_count": 2,
   "metadata": {},
   "outputs": [
    {
     "name": "stdout",
     "output_type": "stream",
     "text": [
      "Hello!\n",
      "Enter something: hi!\n",
      "You entered: hi!\n"
     ]
    }
   ],
   "source": [
    "#Soal No 2\n",
    "print('Hello!')\n",
    "something = input('Enter something: ')\n",
    "print ('You entered:',something)"
   ]
  },
  {
   "cell_type": "code",
   "execution_count": 3,
   "metadata": {},
   "outputs": [
    {
     "name": "stdout",
     "output_type": "stream",
     "text": [
      "Hello!\n",
      "Enter something:hi\n",
      "Hi there!\n"
     ]
    }
   ],
   "source": [
    "#Soal No 3\n",
    "print ('Hello!')\n",
    "something=input('Enter something:')\n",
    "if something == 'hello':\n",
    "    print ('Hello for you too!')\n",
    "elif something == 'hi': #kurang titik dua\n",
    "    print ('Hi there!')\n",
    "else:\n",
    "    print(\"I don't know what\",something, 'means.')"
   ]
  },
  {
   "cell_type": "code",
   "execution_count": 5,
   "metadata": {},
   "outputs": [
    {
     "name": "stdout",
     "output_type": "stream",
     "text": [
      "Pemain 1 silahkan pilih \"batu\", \"gunting\" atau \"kertas\":Batu\n",
      "Pemain 2silahkan pilih \"batu\", \"gunting\" atau \"kertas\":Kertas\n",
      "pemenangnya adalah Pemain 2\n"
     ]
    }
   ],
   "source": [
    "#Soal No 4\n",
    "p1=input('Pemain 1 silahkan pilih \"batu\", \"gunting\" atau \"kertas\":').lower()\n",
    "p2=input('Pemain 2silahkan pilih \"batu\", \"gunting\" atau \"kertas\":').lower()\n",
    "if p1 == 'batu':\n",
    "    if p2 == 'batu':\n",
    "        print ('Seri')\n",
    "    elif p2 == 'gunting':\n",
    "        print ('pemenangnya adalah Pemain 1')\n",
    "    elif p2 == 'kertas':\n",
    "        print ('pemenangnya adalah Pemain 2')\n",
    "    else :\n",
    "        print ('Input tidak valid!. Gunakan “batu”, “ gunting” dan “kertas” tanpa tanda kutip!')\n",
    "elif p1 == 'gunting':\n",
    "    if p2 == 'batu':\n",
    "        print ('pemenangnya adalah Pemain 2')\n",
    "    elif p2 == 'gunting':\n",
    "        print ('Seri')\n",
    "    elif p2 == 'kertas':\n",
    "        print ('pemenangnya adalah Pemain 1')\n",
    "    else :\n",
    "        print ('Input tidak valid!. Gunakan “batu”, “ gunting” dan “kertas” tanpa tanda kutip!')\n",
    "elif p1 == 'kertas':\n",
    "    if p2 == 'batu':\n",
    "        print ('pemenangnya adalah Pemain 1')\n",
    "    elif p2 == 'gunting':\n",
    "        print ('pemenangnya adalah Pemain 2')\n",
    "    elif p2 == 'kertas':\n",
    "        print ('Seri')\n",
    "    else :\n",
    "        print ('Input tidak valid!. Gunakan “batu”, “ gunting” dan “kertas” tanpa tanda kutip!')\n",
    "else :\n",
    "    print ('Input tidak valid!. Gunakan “batu”, “ gunting” dan “kertas” tanpa tanda kutip!')"
   ]
  },
  {
   "cell_type": "code",
   "execution_count": 2,
   "metadata": {},
   "outputs": [
    {
     "name": "stdout",
     "output_type": "stream",
     "text": [
      "\n",
      "    Kangae Munchies Food Market\n",
      "    List Menu Jajanan Pasar\n",
      "\n",
      "    1. Serabi    : Rp 2000\n",
      "    2. Onde-Onde : Rp 1000\n",
      "    3. Risol     : Rp 2500\n",
      "    \n",
      "    \n",
      "Pilih pesanan anda no:4\n",
      "no pesanan tidak valid, masukkan ulang\n",
      "Pilih pesanan anda no:2\n",
      "Jumlah pesanan:2\n",
      " Kamu memesan 2 Onde-onde dengan harga Rp 2000\n",
      "apakah anda ingin order kembali? Y/T :y\n",
      "Pilih pesanan anda no:1\n",
      "Jumlah pesanan:5\n",
      " Kamu memesan 5 Serabi dengan harga Rp 10000\n",
      "apakah anda ingin order kembali? Y/T :y\n",
      "Pilih pesanan anda no:6\n",
      "no pesanan tidak valid, masukkan ulang\n",
      "Pilih pesanan anda no:7\n",
      "no pesanan tidak valid, masukkan ulang\n",
      "Pilih pesanan anda no:3\n",
      "Jumlah pesanan:10\n",
      " Kamu memesan 10 Risol dengan harga Rp 25000\n",
      "apakah anda ingin order kembali? Y/T :t\n",
      "---------------------------------------\n",
      "Kamu memesan:\n",
      "Onde-onde 2 buah = 2000\n",
      "Serabi 5 buah = 10000\n",
      "Risol 10 buah = 25000\n",
      "---------------------------------------- \n",
      "Total Harga Rp 37000\n",
      "\n",
      "\n",
      "Terima kasih sudah berbelanja jajanan pasar kami!\n"
     ]
    }
   ],
   "source": [
    "# Soal no 5\n",
    "print(\"\"\"\n",
    "    Kangae Munchies Food Market\n",
    "    List Menu Jajanan Pasar\n",
    "\n",
    "    1. Serabi    : Rp 2000\n",
    "    2. Onde-Onde : Rp 1000\n",
    "    3. Risol     : Rp 2500\n",
    "    \n",
    "    \"\"\")\n",
    "makanan=['1','2','3']\n",
    "total=0\n",
    "ListPesanan=[]\n",
    "choice='y'\n",
    "i=input('Pilih pesanan anda no:')\n",
    "while choice=='y':\n",
    "    totalsementara=0\n",
    "    if  i in makanan:\n",
    "        if i== '1':\n",
    "            j=int(input('Jumlah pesanan:'))\n",
    "            print (' Kamu memesan',j,'Serabi dengan harga Rp',2000*j)\n",
    "            totalsementara+=(2000*j)\n",
    "            ListPesanan.append('Serabi %0.f buah = %0.f'%(j,totalsementara))\n",
    "        elif i== '2':\n",
    "            j=int(input('Jumlah pesanan:'))\n",
    "            print (' Kamu memesan',j,'Onde-onde dengan harga Rp',1000*j)\n",
    "            totalsementara+=(1000*j)\n",
    "            ListPesanan.append('Onde-onde %0.f buah = %0.f'%(j,totalsementara))\n",
    "        else :\n",
    "            j=int(input('Jumlah pesanan:'))\n",
    "            print (' Kamu memesan',j,'Risol dengan harga Rp',2500*j)\n",
    "            totalsementara+=(2500*j)\n",
    "            ListPesanan.append('Risol %0.f buah = %0.f'%(j,totalsementara))\n",
    "        choice=input('apakah anda ingin order kembali? Y/T :')\n",
    "        if choice=='y':\n",
    "            i=input('Pilih pesanan anda no:')\n",
    "            if i not in makanan:\n",
    "                print('no pesanan tidak valid, masukkan ulang')\n",
    "                i=input('Pilih pesanan anda no:')\n",
    "            else :\n",
    "                i=i\n",
    "        else:\n",
    "            i=0\n",
    "    else:\n",
    "        print('no pesanan tidak valid, masukkan ulang')\n",
    "        i=input('Pilih pesanan anda no:')\n",
    "    total+=totalsementara\n",
    "print ('---------------------------------------')\n",
    "print ('Kamu memesan:')\n",
    "print (*ListPesanan,sep='\\n')\n",
    "print ('---------------------------------------- ')\n",
    "print ('Total Harga Rp',total)\n",
    "print ('\\n')\n",
    "print ('Terima kasih sudah berbelanja jajanan pasar kami!')"
   ]
  },
  {
   "cell_type": "code",
   "execution_count": null,
   "metadata": {},
   "outputs": [],
   "source": []
  }
 ],
 "metadata": {
  "kernelspec": {
   "display_name": "Python 3 (ipykernel)",
   "language": "python",
   "name": "python3"
  },
  "language_info": {
   "codemirror_mode": {
    "name": "ipython",
    "version": 3
   },
   "file_extension": ".py",
   "mimetype": "text/x-python",
   "name": "python",
   "nbconvert_exporter": "python",
   "pygments_lexer": "ipython3",
   "version": "3.8.3"
  }
 },
 "nbformat": 4,
 "nbformat_minor": 4
}
